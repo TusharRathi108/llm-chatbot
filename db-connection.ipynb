{
 "cells": [
  {
   "cell_type": "code",
   "execution_count": null,
   "id": "7e578499",
   "metadata": {},
   "outputs": [],
   "source": [
    "import psycopg2\n",
    "\n",
    "try:\n",
    "  connection = psycopg2.connect(\n",
    "    host = \"localhost\",\n",
    "    user = \"postgres\",\n",
    "    password = \"T101786R\",\n",
    "    database = \"postgres\",\n",
    "    port = 5432,\n",
    "  )\n",
    "\n",
    "  cursor = connection.cursor()\n",
    "  cursor.execute(\"Select NOW()\")\n",
    "  print(\"Connection Successfull: \", cursor.fetchall)\n",
    "except Exception as error:\n",
    "  print(\"Connection failed\", error)\n",
    "finally: \n",
    "  if connection:\n",
    "    cursor.close()\n",
    "    connection.close()\n",
    "    print(\"Connection closed\")"
   ]
  }
 ],
 "metadata": {
  "kernelspec": {
   "display_name": "pdf_chatbot-qIQrziew",
   "language": "python",
   "name": "python3"
  },
  "language_info": {
   "name": "python",
   "version": "3.13.3"
  }
 },
 "nbformat": 4,
 "nbformat_minor": 5
}
