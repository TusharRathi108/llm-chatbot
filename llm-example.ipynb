{
 "cells": [
  {
   "cell_type": "code",
   "execution_count": null,
   "id": "b649858e",
   "metadata": {},
   "outputs": [],
   "source": [
    "# LLM example\n",
    "from ollama import chat, ChatResponse\n",
    "from IPython.display import display, HTML\n",
    "\n",
    "text = \"\"\n",
    "model = \"llama3.2:1b\"\n",
    "message = [\n",
    "  {\n",
    "    'role': 'user',\n",
    "    'content': 'Why shy is blue?'\n",
    "  }\n",
    "]\n",
    "\n",
    "response: ChatResponse = chat(model=model, messages=message, stream=True)\n",
    "\n",
    "for chunk in response:\n",
    "    text += chunk[\"message\"][\"content\"]\n",
    "\n",
    "# Display the output\n",
    "display(HTML(f\"<div style='white-space: pre-wrap; word-wrap: break-word;'>{text}</div>\"))"
   ]
  }
 ],
 "metadata": {
  "kernelspec": {
   "display_name": "pdf_chatbot-qIQrziew",
   "language": "python",
   "name": "python3"
  },
  "language_info": {
   "name": "python",
   "version": "3.13.3"
  }
 },
 "nbformat": 4,
 "nbformat_minor": 5
}
